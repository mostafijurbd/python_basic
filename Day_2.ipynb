{
 "cells": [
  {
   "cell_type": "code",
   "execution_count": 24,
   "id": "6f1a6d66-8e7d-4dc1-be20-090ec88442c6",
   "metadata": {},
   "outputs": [],
   "source": [
    "a = 60\n",
    "A = 60\n"
   ]
  },
  {
   "cell_type": "code",
   "execution_count": 25,
   "id": "a128ab01-af5f-46af-b603-afd2064f32fd",
   "metadata": {},
   "outputs": [
    {
     "name": "stdout",
     "output_type": "stream",
     "text": [
      "60\n"
     ]
    }
   ],
   "source": [
    "print(a)"
   ]
  },
  {
   "cell_type": "code",
   "execution_count": 26,
   "id": "47b10d02-65ca-4d88-9f44-319ab484f6d0",
   "metadata": {},
   "outputs": [
    {
     "name": "stdout",
     "output_type": "stream",
     "text": [
      "60\n"
     ]
    }
   ],
   "source": [
    "print(A)"
   ]
  },
  {
   "cell_type": "code",
   "execution_count": 27,
   "id": "bbb1036c-4980-4e8f-a777-0cc580a4ae91",
   "metadata": {},
   "outputs": [
    {
     "data": {
      "text/plain": [
       "140736667595032"
      ]
     },
     "execution_count": 27,
     "metadata": {},
     "output_type": "execute_result"
    }
   ],
   "source": [
    "id(a)"
   ]
  },
  {
   "cell_type": "code",
   "execution_count": 29,
   "id": "e2190007-5a12-4142-8ec6-c65b62ee48e5",
   "metadata": {},
   "outputs": [
    {
     "data": {
      "text/plain": [
       "140736667595032"
      ]
     },
     "execution_count": 29,
     "metadata": {},
     "output_type": "execute_result"
    }
   ],
   "source": [
    "id(A)\n"
   ]
  },
  {
   "cell_type": "code",
   "execution_count": 32,
   "id": "3ffe5150-1c90-45f7-b675-3e7cbfeed8ef",
   "metadata": {},
   "outputs": [],
   "source": [
    "a = 50\n",
    "b = \"a\""
   ]
  },
  {
   "cell_type": "code",
   "execution_count": 33,
   "id": "09a29104-48e0-49c2-a72e-87ba04f0e0bc",
   "metadata": {},
   "outputs": [
    {
     "name": "stdout",
     "output_type": "stream",
     "text": [
      "50 a\n"
     ]
    }
   ],
   "source": [
    "print(a,b)"
   ]
  },
  {
   "cell_type": "code",
   "execution_count": 36,
   "id": "38fd4f87-2fac-4881-bb0b-08c003cae56b",
   "metadata": {},
   "outputs": [
    {
     "data": {
      "text/plain": [
       "int"
      ]
     },
     "execution_count": 36,
     "metadata": {},
     "output_type": "execute_result"
    }
   ],
   "source": [
    "type(a)"
   ]
  },
  {
   "cell_type": "code",
   "execution_count": 37,
   "id": "087ece61-0f24-4f7d-b4a9-a65ef2f3221a",
   "metadata": {},
   "outputs": [
    {
     "data": {
      "text/plain": [
       "str"
      ]
     },
     "execution_count": 37,
     "metadata": {},
     "output_type": "execute_result"
    }
   ],
   "source": [
    "type(b)"
   ]
  },
  {
   "cell_type": "code",
   "execution_count": 39,
   "id": "b5499ef2-e821-42df-9619-a41fc9d4e348",
   "metadata": {},
   "outputs": [],
   "source": [
    "num = 10+5j"
   ]
  },
  {
   "cell_type": "code",
   "execution_count": 41,
   "id": "dc9d111f-c81f-4ed2-888b-33dbb5c7fdb1",
   "metadata": {},
   "outputs": [
    {
     "name": "stdout",
     "output_type": "stream",
     "text": [
      "(10+5j)\n"
     ]
    },
    {
     "data": {
      "text/plain": [
       "complex"
      ]
     },
     "execution_count": 41,
     "metadata": {},
     "output_type": "execute_result"
    }
   ],
   "source": [
    "print(num)\n",
    "type(num)"
   ]
  },
  {
   "cell_type": "code",
   "execution_count": 42,
   "id": "da1b1017-bd0a-4fc7-b827-739340148260",
   "metadata": {},
   "outputs": [
    {
     "data": {
      "text/plain": [
       "0"
      ]
     },
     "execution_count": 42,
     "metadata": {},
     "output_type": "execute_result"
    }
   ],
   "source": [
    "False + False"
   ]
  },
  {
   "cell_type": "code",
   "execution_count": 43,
   "id": "1166d0e2-4fc9-4dc0-b179-84977192c6c3",
   "metadata": {},
   "outputs": [
    {
     "data": {
      "text/plain": [
       "2"
      ]
     },
     "execution_count": 43,
     "metadata": {},
     "output_type": "execute_result"
    }
   ],
   "source": [
    "True + True"
   ]
  },
  {
   "cell_type": "code",
   "execution_count": 44,
   "id": "a4ae7ab4-c2f4-43b0-951f-9fb620716a13",
   "metadata": {},
   "outputs": [
    {
     "data": {
      "text/plain": [
       "1"
      ]
     },
     "execution_count": 44,
     "metadata": {},
     "output_type": "execute_result"
    }
   ],
   "source": [
    "True + False"
   ]
  },
  {
   "cell_type": "code",
   "execution_count": 46,
   "id": "5c5c37f0-6757-4be0-b75d-5558277e679f",
   "metadata": {},
   "outputs": [],
   "source": [
    "a = None"
   ]
  },
  {
   "cell_type": "code",
   "execution_count": 47,
   "id": "33581b79-6246-4f20-accc-e7ecd42f3455",
   "metadata": {},
   "outputs": [
    {
     "name": "stdout",
     "output_type": "stream",
     "text": [
      "None\n"
     ]
    },
    {
     "data": {
      "text/plain": [
       "140736666548176"
      ]
     },
     "execution_count": 47,
     "metadata": {},
     "output_type": "execute_result"
    }
   ],
   "source": [
    "print(a)\n",
    "id(a)"
   ]
  },
  {
   "cell_type": "code",
   "execution_count": 49,
   "id": "9673d7ed-bbc6-415e-88fb-f93f3be83827",
   "metadata": {},
   "outputs": [
    {
     "name": "stdout",
     "output_type": "stream",
     "text": [
      "Hello World\n"
     ]
    }
   ],
   "source": [
    "print(\"Hello World\")"
   ]
  },
  {
   "cell_type": "code",
   "execution_count": 51,
   "id": "3ff6746d-3df2-49ef-ae73-229d22f3a1a2",
   "metadata": {},
   "outputs": [
    {
     "name": "stdout",
     "output_type": "stream",
     "text": [
      "Welcome to Python\n"
     ]
    }
   ],
   "source": [
    "print(\"Welcome to Python\")"
   ]
  },
  {
   "cell_type": "code",
   "execution_count": 52,
   "id": "0c954a75-3d5d-41f8-8b05-54aaa6eb9580",
   "metadata": {},
   "outputs": [
    {
     "name": "stdout",
     "output_type": "stream",
     "text": [
      "I want to be a future data scientiest\n"
     ]
    }
   ],
   "source": [
    "print(\"I want to be a future data scientiest\")"
   ]
  },
  {
   "cell_type": "code",
   "execution_count": 56,
   "id": "77f7ee84-79d2-417c-aef6-f5249a4a675f",
   "metadata": {},
   "outputs": [
    {
     "name": "stdout",
     "output_type": "stream",
     "text": [
      "আমার নাম মোস্তাফিজুর\n",
      "আমি পাইথন শিখছি\n",
      "12\n",
      "5 + 7 =  12\n"
     ]
    }
   ],
   "source": [
    "print(\"আমার নাম মোস্তাফিজুর\")\n",
    "print(\"আমি পাইথন শিখছি\")\n",
    "print(5+7)\n",
    "print(\"5 + 7 = \", 5 + 7)"
   ]
  },
  {
   "cell_type": "code",
   "execution_count": 59,
   "id": "1213384b-75a1-4236-8d53-135acbf3f1b0",
   "metadata": {},
   "outputs": [
    {
     "name": "stdout",
     "output_type": "stream",
     "text": [
      "My name is Md. Mostafijur Rahman\n",
      "I am 32 Years old\n",
      "আমি পাইথন শিখছি\n",
      "এটা খুব মজার\n"
     ]
    }
   ],
   "source": [
    "print(\"My name is Md. Mostafijur Rahman\")\n",
    "print(\"I am 32 Years old\")\n",
    "print(\"আমি পাইথন শিখছি\\nএটা খুব মজার\")\n"
   ]
  },
  {
   "cell_type": "code",
   "execution_count": 60,
   "id": "d8912b0a-a099-4aa2-a5c5-cd0df6745dae",
   "metadata": {},
   "outputs": [
    {
     "name": "stdout",
     "output_type": "stream",
     "text": [
      "MY home district is Dinajpur\n",
      "My favourite subject is ICT\n",
      "My Favourite food is Biriyani\n"
     ]
    }
   ],
   "source": [
    "print(\"MY home district is Dinajpur\")\n",
    "print(\"My favourite subject is ICT\")\n",
    "print(\"My Favourite food is Biriyani\")"
   ]
  },
  {
   "cell_type": "code",
   "execution_count": 61,
   "id": "bbd22789-9a35-47e2-a2a5-f96774f6a5f4",
   "metadata": {},
   "outputs": [
    {
     "name": "stdout",
     "output_type": "stream",
     "text": [
      "আমি প্রতিদিন পাইথন প্র্যাকটিস করি।\n",
      "আমি বিশ্বাস করি, আমি পারবো!\n"
     ]
    }
   ],
   "source": [
    "print(\"আমি প্রতিদিন পাইথন প্র্যাকটিস করি।\")\n",
    "print(\"আমি বিশ্বাস করি, আমি পারবো!\")"
   ]
  },
  {
   "cell_type": "code",
   "execution_count": 62,
   "id": "bcaeec79-02e5-421d-8816-02d3c0410a61",
   "metadata": {},
   "outputs": [
    {
     "name": "stdout",
     "output_type": "stream",
     "text": [
      "3 + 5 = 8\n",
      "10 * 2 = 20\n",
      "20 - 7 = 13\n"
     ]
    }
   ],
   "source": [
    "print(\"3 + 5 =\", 3 + 5)\n",
    "print(\"10 * 2 =\", 10 * 2)\n",
    "print(\"20 - 7 =\", 20 - 7)"
   ]
  },
  {
   "cell_type": "code",
   "execution_count": 64,
   "id": "1fc59499-3e24-4e86-a9e4-1066af32f5b0",
   "metadata": {},
   "outputs": [
    {
     "name": "stdout",
     "output_type": "stream",
     "text": [
      "Name: Md. Mostafijur Rahman | District: Dinajpur\n"
     ]
    }
   ],
   "source": [
    "print(\"Name:\",\"Md. Mostafijur Rahman\", \"| District:\", \"Dinajpur\")"
   ]
  },
  {
   "cell_type": "code",
   "execution_count": 65,
   "id": "c902ba37-a819-4aee-a474-062d5778d2fa",
   "metadata": {},
   "outputs": [
    {
     "name": "stdout",
     "output_type": "stream",
     "text": [
      "My name is Mostafijur.\n",
      "I love coding.\n",
      "I want to be a Python Developer.\n"
     ]
    }
   ],
   "source": [
    "print(\"My name is Mostafijur.\\nI love coding.\\nI want to be a Python Developer.\")"
   ]
  },
  {
   "cell_type": "code",
   "execution_count": 66,
   "id": "340f3a96-9242-44d5-b4e7-6df48e395d57",
   "metadata": {},
   "outputs": [
    {
     "name": "stdout",
     "output_type": "stream",
     "text": [
      "Birani\n",
      "\tBirani\n",
      "\t\tBirani\n"
     ]
    }
   ],
   "source": [
    "print(\"Birani\\n\\tBirani\\n\\t\\tBirani\")"
   ]
  },
  {
   "cell_type": "code",
   "execution_count": 67,
   "id": "18c0fb0c-c237-4e8f-8c68-80a7f7988ffc",
   "metadata": {},
   "outputs": [
    {
     "name": "stdout",
     "output_type": "stream",
     "text": [
      "My Info:\n",
      "\tName: Mostafijur\n",
      "\tAge: 32\n",
      "\tGoal: Become a Python Developer\n"
     ]
    }
   ],
   "source": [
    "print(\"My Info:\\n\\tName: Mostafijur\\n\\tAge: 32\\n\\tGoal: Become a Python Developer\")"
   ]
  },
  {
   "cell_type": "code",
   "execution_count": null,
   "id": "aa7553a0-a8c0-40df-9c66-37966a64405f",
   "metadata": {},
   "outputs": [],
   "source": []
  }
 ],
 "metadata": {
  "kernelspec": {
   "display_name": "Python 3 (ipykernel)",
   "language": "python",
   "name": "python3"
  },
  "language_info": {
   "codemirror_mode": {
    "name": "ipython",
    "version": 3
   },
   "file_extension": ".py",
   "mimetype": "text/x-python",
   "name": "python",
   "nbconvert_exporter": "python",
   "pygments_lexer": "ipython3",
   "version": "3.12.7"
  }
 },
 "nbformat": 4,
 "nbformat_minor": 5
}
