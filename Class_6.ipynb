{
 "cells": [
  {
   "cell_type": "code",
   "execution_count": 5,
   "id": "02340497-48cf-4ff7-8eff-c141e91bcef5",
   "metadata": {},
   "outputs": [
    {
     "name": "stdin",
     "output_type": "stream",
     "text": [
      "Enter Bangla subject mark:  80\n",
      "Enter English subject mark:  70\n",
      "Enter Python subject mark:  60\n"
     ]
    },
    {
     "name": "stdout",
     "output_type": "stream",
     "text": [
      "Sorry\n",
      " You failed\n",
      "Thanks for using our software.\n"
     ]
    }
   ],
   "source": [
    "# if else statement\n",
    "\n",
    "bangla = int(input(\"Enter Bangla subject mark: \"))\n",
    "english = int(input(\"Enter English subject mark: \"))\n",
    "python = int(input(\"Enter Python subject mark: \"))\n",
    "\n",
    "if bangla >=80 and english >=80 and python >= 80:\n",
    "    print(\"Congratulation\\nYou got A+\")\n",
    "\n",
    "if bangla >=70 and english >=70 and python >= 7 0:\n",
    "    print(\"Congratulation\\nYou got A+\")\n",
    "    \n",
    "else:\n",
    "    print(\"Sorry\\nYou failed\")\n",
    "\n",
    "print(\"Thanks for using our software.\")"
   ]
  },
  {
   "cell_type": "code",
   "execution_count": 10,
   "id": "cbcee13d-2555-4c62-ac2d-8a9211c87305",
   "metadata": {},
   "outputs": [
    {
     "name": "stdout",
     "output_type": "stream",
     "text": [
      "Above 10\n",
      "And also Above 20\n",
      "And also Above 30\n",
      "But not Above 40\n"
     ]
    }
   ],
   "source": [
    "x = 35\n",
    "\n",
    "if x > 10:\n",
    "    print(\"Above 10\")\n",
    "    if x > 20:\n",
    "        print(\"And also Above 20\")\n",
    "        if x > 30:\n",
    "            print(\"And also Above 30\")\n",
    "            if x > 40:\n",
    "                print(\"And also Above 40\")\n",
    "            else:\n",
    "                print(\"But not Above 40\")\n",
    "        else:\n",
    "            print(\"But not Above 30\")\n",
    "    else:\n",
    "        print(\"But not Above 20\")\n",
    "else:\n",
    "    print(\"Not above 10\")"
   ]
  },
  {
   "cell_type": "code",
   "execution_count": 11,
   "id": "a013efa0-f59c-47cf-8632-5a5cb96b04b0",
   "metadata": {},
   "outputs": [],
   "source": [
    "string = \"Python is fun\""
   ]
  },
  {
   "cell_type": "code",
   "execution_count": 12,
   "id": "797cbbca-520a-4252-ab2e-4b2742923e13",
   "metadata": {},
   "outputs": [
    {
     "name": "stdout",
     "output_type": "stream",
     "text": [
      "Python is fun\n"
     ]
    }
   ],
   "source": [
    "print(string)"
   ]
  },
  {
   "cell_type": "code",
   "execution_count": 13,
   "id": "72834454-3eeb-433d-8dd9-ef4cde739480",
   "metadata": {},
   "outputs": [
    {
     "name": "stdout",
     "output_type": "stream",
     "text": [
      "13\n"
     ]
    }
   ],
   "source": [
    "print(len(string))"
   ]
  },
  {
   "cell_type": "code",
   "execution_count": 21,
   "id": "f881835f-d5af-4469-bf41-56ed99e8cbd6",
   "metadata": {},
   "outputs": [
    {
     "name": "stdout",
     "output_type": "stream",
     "text": [
      "nuf si nohtyP\n"
     ]
    }
   ],
   "source": [
    "print(string[-1:-14:-1])"
   ]
  },
  {
   "cell_type": "code",
   "execution_count": null,
   "id": "33cc756a-2645-4b40-a569-1d963116d15e",
   "metadata": {},
   "outputs": [],
   "source": []
  }
 ],
 "metadata": {
  "kernelspec": {
   "display_name": "Python 3 (ipykernel)",
   "language": "python",
   "name": "python3"
  },
  "language_info": {
   "codemirror_mode": {
    "name": "ipython",
    "version": 3
   },
   "file_extension": ".py",
   "mimetype": "text/x-python",
   "name": "python",
   "nbconvert_exporter": "python",
   "pygments_lexer": "ipython3",
   "version": "3.12.7"
  }
 },
 "nbformat": 4,
 "nbformat_minor": 5
}
