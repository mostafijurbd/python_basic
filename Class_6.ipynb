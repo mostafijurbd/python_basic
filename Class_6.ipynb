{
 "cells": [
  {
   "cell_type": "code",
   "execution_count": 5,
   "id": "02340497-48cf-4ff7-8eff-c141e91bcef5",
   "metadata": {},
   "outputs": [
    {
     "name": "stdin",
     "output_type": "stream",
     "text": [
      "Enter Bangla subject mark:  80\n",
      "Enter English subject mark:  70\n",
      "Enter Python subject mark:  60\n"
     ]
    },
    {
     "name": "stdout",
     "output_type": "stream",
     "text": [
      "Sorry\n",
      " You failed\n",
      "Thanks for using our software.\n"
     ]
    }
   ],
   "source": [
    "# if else statement\n",
    "\n",
    "bangla = int(input(\"Enter Bangla subject mark: \"))\n",
    "english = int(input(\"Enter English subject mark: \"))\n",
    "python = int(input(\"Enter Python subject mark: \"))\n",
    "\n",
    "if bangla >=80 and english >=80 and python >= 80:\n",
    "    print(\"Congratulation\\nYou got A+\")\n",
    "\n",
    "if bangla >=70 and english >=70 and python >= 7 0:\n",
    "    print(\"Congratulation\\nYou got A+\")\n",
    "    \n",
    "else:\n",
    "    print(\"Sorry\\nYou failed\")\n",
    "\n",
    "print(\"Thanks for using our software.\")"
   ]
  },
  {
   "cell_type": "code",
   "execution_count": 10,
   "id": "cbcee13d-2555-4c62-ac2d-8a9211c87305",
   "metadata": {},
   "outputs": [
    {
     "name": "stdout",
     "output_type": "stream",
     "text": [
      "Above 10\n",
      "And also Above 20\n",
      "And also Above 30\n",
      "But not Above 40\n"
     ]
    }
   ],
   "source": [
    "x = 35\n",
    "\n",
    "if x > 10:\n",
    "    print(\"Above 10\")\n",
    "    if x > 20:\n",
    "        print(\"And also Above 20\")\n",
    "        if x > 30:\n",
    "            print(\"And also Above 30\")\n",
    "            if x > 40:\n",
    "                print(\"And also Above 40\")\n",
    "            else:\n",
    "                print(\"But not Above 40\")\n",
    "        else:\n",
    "            print(\"But not Above 30\")\n",
    "    else:\n",
    "        print(\"But not Above 20\")\n",
    "else:\n",
    "    print(\"Not above 10\")"
   ]
  },
  {
   "cell_type": "code",
   "execution_count": null,
   "id": "a013efa0-f59c-47cf-8632-5a5cb96b04b0",
   "metadata": {},
   "outputs": [],
   "source": []
  }
 ],
 "metadata": {
  "kernelspec": {
   "display_name": "Python 3 (ipykernel)",
   "language": "python",
   "name": "python3"
  },
  "language_info": {
   "codemirror_mode": {
    "name": "ipython",
    "version": 3
   },
   "file_extension": ".py",
   "mimetype": "text/x-python",
   "name": "python",
   "nbconvert_exporter": "python",
   "pygments_lexer": "ipython3",
   "version": "3.12.7"
  }
 },
 "nbformat": 4,
 "nbformat_minor": 5
}
