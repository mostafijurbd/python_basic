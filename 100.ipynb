{
 "cells": [
  {
   "cell_type": "code",
   "execution_count": 1,
   "id": "6033bb3f-3fad-4578-bd9d-98f71a1aecf9",
   "metadata": {},
   "outputs": [
    {
     "name": "stdout",
     "output_type": "stream",
     "text": [
      "Hello World\n"
     ]
    }
   ],
   "source": [
    "# 01. Write a program that print Hello World \n",
    "\n",
    "print(\"Hello World\")"
   ]
  },
  {
   "cell_type": "code",
   "execution_count": 2,
   "id": "2492cee0-d8e8-443c-8d6c-4a4ec99c1c1d",
   "metadata": {},
   "outputs": [
    {
     "name": "stdin",
     "output_type": "stream",
     "text": [
      "Write your name:  Mostafijur\n"
     ]
    },
    {
     "name": "stdout",
     "output_type": "stream",
     "text": [
      "Hello Mostafijur!\n"
     ]
    }
   ],
   "source": [
    "# 02. Write a program that take input from user\n",
    "\n",
    "name = input(\"Write your name: \")\n",
    "print(f\"Hello {name}!\")\n"
   ]
  },
  {
   "cell_type": "code",
   "execution_count": 3,
   "id": "56d8ac25-352b-47e5-84c1-685c842d1a48",
   "metadata": {},
   "outputs": [
    {
     "name": "stdin",
     "output_type": "stream",
     "text": [
      "Enter 1st Number:  15\n",
      "Enter 2nd number:  25\n"
     ]
    },
    {
     "name": "stdout",
     "output_type": "stream",
     "text": [
      "Summation = 40\n"
     ]
    }
   ],
   "source": [
    "# 03. Write a program that add two numbers.\n",
    "\n",
    "num1 = int(input(\"Enter 1st Number: \"))\n",
    "num2 = int(input(\"Enter 2nd number: \"))\n",
    "\n",
    "sum = num1+num2\n",
    "print(\"Summation =\",sum)"
   ]
  },
  {
   "cell_type": "code",
   "execution_count": 4,
   "id": "80fe247f-0ad7-4c35-a386-e52d21daf563",
   "metadata": {},
   "outputs": [
    {
     "name": "stdin",
     "output_type": "stream",
     "text": [
      "Enter 1st Number:  15\n",
      "Enter 2nd number:  26\n"
     ]
    },
    {
     "name": "stdout",
     "output_type": "stream",
     "text": [
      "Before swaping: a = 15 , b = 26\n",
      "After swaping: a = 26 , b = 15\n"
     ]
    }
   ],
   "source": [
    "# 04. Write a program that swap twon variable without third variable\n",
    "\n",
    "a = int(input(\"Enter 1st Number: \"))\n",
    "b = int(input(\"Enter 2nd number: \"))\n",
    "print(f\"Before swaping: a = {a} , b = {b}\")\n",
    "a,b = b,a\n",
    "print(f\"After swaping: a = {a} , b = {b}\")"
   ]
  },
  {
   "cell_type": "code",
   "execution_count": 5,
   "id": "350442e6-b4cb-40d4-bc68-44d85b91ddf5",
   "metadata": {},
   "outputs": [
    {
     "name": "stdin",
     "output_type": "stream",
     "text": [
      "Enter a number to check even or odd:  15\n"
     ]
    },
    {
     "name": "stdout",
     "output_type": "stream",
     "text": [
      "15 is a odd number.\n"
     ]
    }
   ],
   "source": [
    "# 05. Write a program that check a number is even or odd.\n",
    "\n",
    "num = int(input(\"Enter a number to check even or odd: \"))\n",
    "\n",
    "if num %2 == 0:\n",
    "    print(\"%d is a even number.\" %num)\n",
    "else:\n",
    "    print(\"%d is a odd number.\" %num)"
   ]
  },
  {
   "cell_type": "code",
   "execution_count": 6,
   "id": "b7adb96e-fb19-460f-a60e-4196e209d4b3",
   "metadata": {},
   "outputs": [
    {
     "name": "stdin",
     "output_type": "stream",
     "text": [
      "Enter a number to check even or odd:  6\n"
     ]
    },
    {
     "name": "stdout",
     "output_type": "stream",
     "text": [
      "6 is a even number.\n"
     ]
    }
   ],
   "source": [
    "# 05.1 Write a program that check a number is even or odd.\n",
    "\n",
    "num = int(input(\"Enter a number to check even or odd: \"))\n",
    "\n",
    "if num %2 != 0:\n",
    "    print(\"%d is a odd number.\" %num)\n",
    "else:\n",
    "    print(\"%d is a even number.\" %num)"
   ]
  },
  {
   "cell_type": "code",
   "execution_count": 7,
   "id": "550f08bf-6609-4155-8ea7-aa09de07d609",
   "metadata": {},
   "outputs": [
    {
     "name": "stdin",
     "output_type": "stream",
     "text": [
      "Enter 1st number:  15\n",
      "Enter 2nd number:  14\n"
     ]
    },
    {
     "name": "stdout",
     "output_type": "stream",
     "text": [
      "Big number is 15\n"
     ]
    }
   ],
   "source": [
    "# 06. write a program that print big number between two numbers.\n",
    "\n",
    "a = int(input(\"Enter 1st number: \"))\n",
    "b = int(input(\"Enter 2nd number: \"))\n",
    "\n",
    "if a>b:\n",
    "    print(\"Big number is %d\" %a)\n",
    "\n",
    "elif b>a:\n",
    "    print(\"Big number is %d\" %b)\n",
    "\n",
    "else:\n",
    "    print(\"Both number are equal\")"
   ]
  },
  {
   "cell_type": "code",
   "execution_count": 13,
   "id": "064c785a-fc88-421d-bae9-0125a24c635c",
   "metadata": {},
   "outputs": [
    {
     "name": "stdin",
     "output_type": "stream",
     "text": [
      "Enter two number:  16 16\n"
     ]
    },
    {
     "name": "stdout",
     "output_type": "stream",
     "text": [
      "16\n",
      "Both number are equal\n"
     ]
    }
   ],
   "source": [
    "###### 06.1 write a program that print big number between two numbers.\n",
    "\n",
    "a,b = map(int, (input(\"Enter two number: \")).split())\n",
    "max_number = max(a,b)\n",
    "print(max_number)\n",
    "if a>b:\n",
    "    print(\"Big number is %d\" %a)\n",
    "\n",
    "elif b>a:\n",
    "    print(\"Big number is %d\" %b)\n",
    "\n",
    "else:\n",
    "    print(\"Both number are equal\")"
   ]
  },
  {
   "cell_type": "code",
   "execution_count": null,
   "id": "bbff9bee-dea9-4720-bd0d-69ca126a4401",
   "metadata": {},
   "outputs": [],
   "source": [
    "# 07. Write a program that print square & cube\n",
    "num = int(input(\"Enter a number: \"))\n",
    "\n",
    "square = num**2\n",
    "cube = num**3\n",
    "print(square, cube)"
   ]
  },
  {
   "cell_type": "code",
   "execution_count": 2,
   "id": "0e7e3d8e-8856-4d6f-a2e1-d08293b93a2d",
   "metadata": {},
   "outputs": [
    {
     "name": "stdin",
     "output_type": "stream",
     "text": [
      "Enter a Sentence:  1\n",
      "How many times you want to continue:  1\n"
     ]
    },
    {
     "name": "stdout",
     "output_type": "stream",
     "text": [
      "1 1\n"
     ]
    }
   ],
   "source": [
    "sentence = input(\"Enter a Sentence: \")\n",
    "num = int(input(\"How many times you want to continue: \"))\n",
    "        \n",
    "for i in range(1,num+1):\n",
    "    print(i, sentence)"
   ]
  },
  {
   "cell_type": "code",
   "execution_count": 3,
   "id": "0d81a134-fb74-40bd-ad8d-eab355e18eda",
   "metadata": {},
   "outputs": [
    {
     "name": "stdin",
     "output_type": "stream",
     "text": [
      "Enter your message:  Hello\n",
      "How many times you want to continue:  5\n"
     ]
    },
    {
     "name": "stdout",
     "output_type": "stream",
     "text": [
      "Hello\n",
      "Hello\n",
      "Hello\n",
      "Hello\n",
      "Hello\n"
     ]
    }
   ],
   "source": [
    "msg = input(\"Enter your message: \")\n",
    "n = int(input(\"How many times you want to continue: \"))\n",
    "for i in range (1, n+1):\n",
    "    print(msg)\n",
    "    "
   ]
  },
  {
   "cell_type": "code",
   "execution_count": null,
   "id": "6e72c8fb-5cc9-40f2-85d1-070093f3ea6f",
   "metadata": {},
   "outputs": [],
   "source": []
  }
 ],
 "metadata": {
  "kernelspec": {
   "display_name": "Python 3 (ipykernel)",
   "language": "python",
   "name": "python3"
  },
  "language_info": {
   "codemirror_mode": {
    "name": "ipython",
    "version": 3
   },
   "file_extension": ".py",
   "mimetype": "text/x-python",
   "name": "python",
   "nbconvert_exporter": "python",
   "pygments_lexer": "ipython3",
   "version": "3.12.7"
  }
 },
 "nbformat": 4,
 "nbformat_minor": 5
}
