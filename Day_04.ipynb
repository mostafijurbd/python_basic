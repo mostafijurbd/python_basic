{
 "cells": [
  {
   "cell_type": "code",
   "execution_count": 1,
   "id": "f0575acf-7d1b-43cd-9ae6-222983dec3b6",
   "metadata": {},
   "outputs": [],
   "source": [
    "name = \"My name is Mostafijur\""
   ]
  },
  {
   "cell_type": "code",
   "execution_count": 2,
   "id": "b6b77878-f8cf-4035-b7d9-e4d162847cee",
   "metadata": {},
   "outputs": [
    {
     "data": {
      "text/plain": [
       "'My name is Mostafijur'"
      ]
     },
     "execution_count": 2,
     "metadata": {},
     "output_type": "execute_result"
    }
   ],
   "source": [
    "name"
   ]
  },
  {
   "cell_type": "code",
   "execution_count": 4,
   "id": "512063d8-72bf-442e-b2bc-2e6752d7b332",
   "metadata": {},
   "outputs": [
    {
     "data": {
      "text/plain": [
       "12"
      ]
     },
     "execution_count": 4,
     "metadata": {},
     "output_type": "execute_result"
    }
   ],
   "source": [
    "name.index(\"o\")"
   ]
  },
  {
   "cell_type": "code",
   "execution_count": 5,
   "id": "9ba62eee-2077-432c-b472-7b64c1136e6b",
   "metadata": {},
   "outputs": [
    {
     "data": {
      "text/plain": [
       "'Mostafijur'"
      ]
     },
     "execution_count": 5,
     "metadata": {},
     "output_type": "execute_result"
    }
   ],
   "source": [
    "name[11:]"
   ]
  },
  {
   "cell_type": "code",
   "execution_count": 8,
   "id": "475a9893-7a4c-4028-8939-08d1182bc79f",
   "metadata": {},
   "outputs": [],
   "source": [
    "name = name[:11] + \"Rahman\""
   ]
  },
  {
   "cell_type": "code",
   "execution_count": 10,
   "id": "98b340be-8158-414b-b2aa-e7bdad62db20",
   "metadata": {},
   "outputs": [
    {
     "data": {
      "text/plain": [
       "'My name is Rahman'"
      ]
     },
     "execution_count": 10,
     "metadata": {},
     "output_type": "execute_result"
    }
   ],
   "source": [
    "name"
   ]
  },
  {
   "cell_type": "code",
   "execution_count": 11,
   "id": "890d5497-ebe8-42c3-b7e2-c7e4953e34a4",
   "metadata": {},
   "outputs": [
    {
     "data": {
      "text/plain": [
       "'My name is Rahman'"
      ]
     },
     "execution_count": 11,
     "metadata": {},
     "output_type": "execute_result"
    }
   ],
   "source": [
    "name"
   ]
  },
  {
   "cell_type": "code",
   "execution_count": 12,
   "id": "900c0394-152c-4d53-8a57-0a7fb647a9b6",
   "metadata": {},
   "outputs": [
    {
     "data": {
      "text/plain": [
       "11"
      ]
     },
     "execution_count": 12,
     "metadata": {},
     "output_type": "execute_result"
    }
   ],
   "source": [
    "name.index(\"R\")"
   ]
  },
  {
   "cell_type": "code",
   "execution_count": 21,
   "id": "dfd4846b-997f-487f-962f-e43b18f0ba31",
   "metadata": {},
   "outputs": [
    {
     "data": {
      "text/plain": [
       "'My name is Rahman Mostafijur'"
      ]
     },
     "execution_count": 21,
     "metadata": {},
     "output_type": "execute_result"
    }
   ],
   "source": [
    "name[:17] + \" Mostafijur\""
   ]
  },
  {
   "cell_type": "code",
   "execution_count": 22,
   "id": "1a7bccc7-5db5-4ddd-851d-3c151b30c770",
   "metadata": {},
   "outputs": [
    {
     "data": {
      "text/plain": [
       "'My name is Rahman Mostafijur'"
      ]
     },
     "execution_count": 22,
     "metadata": {},
     "output_type": "execute_result"
    }
   ],
   "source": [
    "name[:] + \" Mostafijur\""
   ]
  },
  {
   "cell_type": "code",
   "execution_count": 1,
   "id": "173f1760-86ca-41e4-8c11-859a7f90f195",
   "metadata": {},
   "outputs": [],
   "source": [
    "name = \"My Name is Abdur Mutakabbir\""
   ]
  },
  {
   "cell_type": "code",
   "execution_count": 5,
   "id": "668a8a29-cbea-41ca-8472-21b663661ce9",
   "metadata": {},
   "outputs": [
    {
     "data": {
      "text/plain": [
       "17"
      ]
     },
     "execution_count": 5,
     "metadata": {},
     "output_type": "execute_result"
    }
   ],
   "source": [
    "name.index(\"Muta\")"
   ]
  },
  {
   "cell_type": "code",
   "execution_count": 9,
   "id": "a7a7ebbc-fbdc-4b3e-b975-c7bbb5c99329",
   "metadata": {},
   "outputs": [],
   "source": [
    "name2 = name[:16]+\" Rahman\""
   ]
  },
  {
   "cell_type": "code",
   "execution_count": 10,
   "id": "7bc2b3f3-e9af-4e60-8f9c-9767c578e48e",
   "metadata": {},
   "outputs": [
    {
     "data": {
      "text/plain": [
       "'My Name is Abdur Rahman'"
      ]
     },
     "execution_count": 10,
     "metadata": {},
     "output_type": "execute_result"
    }
   ],
   "source": [
    "name2"
   ]
  },
  {
   "cell_type": "code",
   "execution_count": 11,
   "id": "70aecac3-4d9f-4dd4-aa5f-34d09b705173",
   "metadata": {},
   "outputs": [
    {
     "data": {
      "text/plain": [
       "23"
      ]
     },
     "execution_count": 11,
     "metadata": {},
     "output_type": "execute_result"
    }
   ],
   "source": [
    "len(name2)\n"
   ]
  },
  {
   "cell_type": "code",
   "execution_count": 12,
   "id": "1dd0d4b3-c7d0-4e77-9c22-a78e9ef6922d",
   "metadata": {},
   "outputs": [
    {
     "data": {
      "text/plain": [
       "27"
      ]
     },
     "execution_count": 12,
     "metadata": {},
     "output_type": "execute_result"
    }
   ],
   "source": [
    "len(name)"
   ]
  },
  {
   "cell_type": "code",
   "execution_count": 13,
   "id": "dbda1630-c786-4806-b302-b8f3408c7d86",
   "metadata": {},
   "outputs": [
    {
     "name": "stdout",
     "output_type": "stream",
     "text": [
      "My Name is Abdur Mutakabbir My Name is Abdur Rahman\n"
     ]
    }
   ],
   "source": [
    "print(name,name2)"
   ]
  },
  {
   "cell_type": "code",
   "execution_count": 14,
   "id": "e9ff8bef-9f53-44c5-8ee9-92e0aa69d866",
   "metadata": {},
   "outputs": [
    {
     "data": {
      "text/plain": [
       "8"
      ]
     },
     "execution_count": 14,
     "metadata": {},
     "output_type": "execute_result"
    }
   ],
   "source": [
    "name.index(\"is\")\n"
   ]
  },
  {
   "cell_type": "code",
   "execution_count": 17,
   "id": "ebfa793e-087d-47f2-91d1-b6bff00ce64a",
   "metadata": {},
   "outputs": [
    {
     "data": {
      "text/plain": [
       "'My Name Abdur Mutakabbir'"
      ]
     },
     "execution_count": 17,
     "metadata": {},
     "output_type": "execute_result"
    }
   ],
   "source": [
    "name[:7]+name[10:]"
   ]
  },
  {
   "cell_type": "code",
   "execution_count": 29,
   "id": "12d19cb7-38ef-4a9d-8616-432625829a35",
   "metadata": {},
   "outputs": [],
   "source": [
    "names = \"My Name is Md. Mostafijur\""
   ]
  },
  {
   "cell_type": "code",
   "execution_count": 30,
   "id": "1cdfb21f-5ff7-424c-8032-bebfda89475f",
   "metadata": {},
   "outputs": [],
   "source": [
    "names = names[:]+\" Rahman\""
   ]
  },
  {
   "cell_type": "code",
   "execution_count": 31,
   "id": "0c14e8de-888d-4cf3-8752-c1c35f491be7",
   "metadata": {},
   "outputs": [
    {
     "name": "stdout",
     "output_type": "stream",
     "text": [
      "My Name is Md. Mostafijur Rahman\n"
     ]
    }
   ],
   "source": [
    "print(names)"
   ]
  },
  {
   "cell_type": "code",
   "execution_count": null,
   "id": "21571b99-5744-4845-aba6-f243675963dd",
   "metadata": {},
   "outputs": [],
   "source": []
  }
 ],
 "metadata": {
  "kernelspec": {
   "display_name": "Python 3 (ipykernel)",
   "language": "python",
   "name": "python3"
  },
  "language_info": {
   "codemirror_mode": {
    "name": "ipython",
    "version": 3
   },
   "file_extension": ".py",
   "mimetype": "text/x-python",
   "name": "python",
   "nbconvert_exporter": "python",
   "pygments_lexer": "ipython3",
   "version": "3.12.7"
  }
 },
 "nbformat": 4,
 "nbformat_minor": 5
}
