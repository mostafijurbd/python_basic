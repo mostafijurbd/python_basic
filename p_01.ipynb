{
 "cells": [
  {
   "cell_type": "code",
   "execution_count": 2,
   "id": "ce3ea8aa-6c5e-41bc-b4ec-d01e4e45ba2d",
   "metadata": {},
   "outputs": [
    {
     "name": "stdin",
     "output_type": "stream",
     "text": [
      "Enter a number:  45\n",
      "Enter another number:  12\n"
     ]
    },
    {
     "name": "stdout",
     "output_type": "stream",
     "text": [
      "The sum of 45.0 and 12.0 is 57.0\n"
     ]
    }
   ],
   "source": [
    "num1 = float(input(\"Enter a number: \"))\n",
    "num2 = float(input(\"Enter another number: \"))\n",
    "sum = num1 + num2\n",
    "print(f\"The sum of {num1} and {num2} is {sum}\")"
   ]
  },
  {
   "cell_type": "code",
   "execution_count": 5,
   "id": "c3a015b0-2653-4006-9918-1e72ca287f83",
   "metadata": {},
   "outputs": [
    {
     "name": "stdin",
     "output_type": "stream",
     "text": [
      "Enter your number:  39\n"
     ]
    },
    {
     "name": "stdout",
     "output_type": "stream",
     "text": [
      "You are failed the exam.\n"
     ]
    }
   ],
   "source": [
    "mark = int(input(\"Enter your number: \"))\n",
    "\n",
    "if mark>=40:\n",
    "    print(\"You are passed the exam.\")\n",
    "else:\n",
    "    print(\"You are failed the exam.\")"
   ]
  },
  {
   "cell_type": "code",
   "execution_count": 8,
   "id": "9fab325c-c0ec-495b-8a78-fc5f9cd32cdd",
   "metadata": {},
   "outputs": [
    {
     "name": "stdin",
     "output_type": "stream",
     "text": [
      "Please enter your mark:  39\n"
     ]
    },
    {
     "name": "stdout",
     "output_type": "stream",
     "text": [
      "You are failed in this subject.\n"
     ]
    }
   ],
   "source": [
    "mark = int(input(\"Please enter your mark: \"))\n",
    "\n",
    "if mark>=40:\n",
    "    print(\"You are passed in this subject.\")\n",
    "if mark<40:\n",
    "    print(\"You are failed in this subject.\")"
   ]
  },
  {
   "cell_type": "code",
   "execution_count": 11,
   "id": "5d7d836d-308b-4e9d-b283-c67d903da582",
   "metadata": {},
   "outputs": [
    {
     "name": "stdin",
     "output_type": "stream",
     "text": [
      "Enter your your mark:  56\n"
     ]
    },
    {
     "name": "stdout",
     "output_type": "stream",
     "text": [
      "You pass the exam and your mark is 56.\n"
     ]
    }
   ],
   "source": [
    "mark = int(input(\"Enter your your mark: \"))\n",
    "\n",
    "if mark >= 40:\n",
    "    print(f\"You pass the exam and your mark is {mark}.\")\n",
    "else:\n",
    "    print(f\"You failed the exam and your mark is {mark}.\")"
   ]
  },
  {
   "cell_type": "code",
   "execution_count": 14,
   "id": "9e8dfe0c-644b-402f-a386-5286d88c26d5",
   "metadata": {},
   "outputs": [
    {
     "name": "stdin",
     "output_type": "stream",
     "text": [
      "Enter your age:  15\n"
     ]
    },
    {
     "name": "stdout",
     "output_type": "stream",
     "text": [
      "You are not eligible for voting.\n"
     ]
    }
   ],
   "source": [
    "age = int(input(\"Enter your age: \"))\n",
    "\n",
    "if age>=18:\n",
    "    print(\"You are eligible for voting.\")\n",
    "else:\n",
    "    print(\"You are not eligible for voting.\")"
   ]
  },
  {
   "cell_type": "code",
   "execution_count": 15,
   "id": "4339f863-74c2-4d26-b97d-1eaa00c1976c",
   "metadata": {},
   "outputs": [
    {
     "name": "stdin",
     "output_type": "stream",
     "text": [
      "Enter a number:  55\n"
     ]
    },
    {
     "name": "stdout",
     "output_type": "stream",
     "text": [
      "55 is a odd number.\n"
     ]
    }
   ],
   "source": [
    "# Write a program that check a number is positive, negative or zero\n",
    "\n",
    "a = int(input(\"Enter a number: \"))\n",
    "if a%2==0:\n",
    "    print(f\"{a} ia a even number.\")\n",
    "else:\n",
    "    print(f\"{a} is a odd number.\")"
   ]
  },
  {
   "cell_type": "code",
   "execution_count": 17,
   "id": "9db70187-8c67-425f-b659-c9335d60f245",
   "metadata": {},
   "outputs": [
    {
     "name": "stdin",
     "output_type": "stream",
     "text": [
      "Enter a number:  50\n"
     ]
    },
    {
     "name": "stdout",
     "output_type": "stream",
     "text": [
      "50 is a even number.\n"
     ]
    }
   ],
   "source": [
    "# 04 write a program that print enter number is even or odd\n",
    "\n",
    "num = int(input(\"Enter a number: \"))\n",
    "\n",
    "if num%2!=0:\n",
    "    print(f\"{num} is a odd number.\")\n",
    "else:\n",
    "    print(f\"{num} is a even number.\")"
   ]
  },
  {
   "cell_type": "code",
   "execution_count": 1,
   "id": "449e3ed0-30da-4a01-90e6-5bfa2d70bdc7",
   "metadata": {},
   "outputs": [
    {
     "name": "stdin",
     "output_type": "stream",
     "text": [
      "Enter the year to check:  2004\n"
     ]
    },
    {
     "name": "stdout",
     "output_type": "stream",
     "text": [
      "2004 is a leap year.\n"
     ]
    }
   ],
   "source": [
    "# 05 Write a program that print enter year is Leap year or not\n",
    "year = int(input(\"Enter the year to check: \"))\n",
    "\n",
    "if year%400 == 0 or (year%100 !=0 and year%4 == 0):\n",
    "    print(f\"{year} is a leap year.\")\n",
    "else:\n",
    "    print(f\"{year} is not a leap year.\")"
   ]
  },
  {
   "cell_type": "code",
   "execution_count": 7,
   "id": "4bf0870f-7a08-46e2-a14d-42dd7c62177e",
   "metadata": {},
   "outputs": [
    {
     "name": "stdin",
     "output_type": "stream",
     "text": [
      "Enter the year you want to check:  2008\n"
     ]
    },
    {
     "name": "stdout",
     "output_type": "stream",
     "text": [
      "2008 is a leap year.\n"
     ]
    }
   ],
   "source": [
    "# 05 Write a program that print enter year is a leap year or not/\n",
    "\n",
    "year = int(input(\"Enter the year you want to check: \"))\n",
    "\n",
    "if year%400 == 0 or (year%100 !=0 and year%4 == 0):\n",
    "    print(f\"{year} is a leap year.\")\n",
    "else:\n",
    "    print(f\"{year} is not a leap year.\")"
   ]
  },
  {
   "cell_type": "code",
   "execution_count": 22,
   "id": "dc981fed-444b-4e66-a643-b2dc0b55408f",
   "metadata": {},
   "outputs": [
    {
     "name": "stdout",
     "output_type": "stream",
     "text": [
      "1: Feet to Meter, 2: Meter to Feet\n"
     ]
    },
    {
     "name": "stdin",
     "output_type": "stream",
     "text": [
      "Enter your choice 2\n",
      "Enter number of Meter:  75\n"
     ]
    },
    {
     "name": "stdout",
     "output_type": "stream",
     "text": [
      "Feets = 246\n"
     ]
    }
   ],
   "source": [
    "# 06 Write a program that print Meter to Feet or Feet to Meters.\n",
    "print(\"1: Feet to Meter, 2: Meter to Feet\")\n",
    "choice = int(input(\"Enter your choice\"))\n",
    "\n",
    "if choice == 1:\n",
    "    num = int(input(\"Enter number of feet: \"))\n",
    "    meter = round((num/3.28),3)\n",
    "    print(f\"Meters = {meter}\")\n",
    "elif choice ==2:\n",
    "    num = int(input(\"Enter number of Meter: \"))\n",
    "    feets = round((num*3.28))\n",
    "    print(f\"Feets = {feets}\")\n",
    "else:\n",
    "    print(\"You choice is wroing. Please choice the right number.\")"
   ]
  },
  {
   "cell_type": "code",
   "execution_count": null,
   "id": "8400f002-003b-428e-978a-2a9fdb1f8ab6",
   "metadata": {},
   "outputs": [],
   "source": []
  }
 ],
 "metadata": {
  "kernelspec": {
   "display_name": "Python 3 (ipykernel)",
   "language": "python",
   "name": "python3"
  },
  "language_info": {
   "codemirror_mode": {
    "name": "ipython",
    "version": 3
   },
   "file_extension": ".py",
   "mimetype": "text/x-python",
   "name": "python",
   "nbconvert_exporter": "python",
   "pygments_lexer": "ipython3",
   "version": "3.12.7"
  }
 },
 "nbformat": 4,
 "nbformat_minor": 5
}
