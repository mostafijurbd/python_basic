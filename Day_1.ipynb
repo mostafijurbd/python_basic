{
 "cells": [
  {
   "cell_type": "code",
   "execution_count": 8,
   "id": "1e8fab2d-a655-4bfb-8eb4-0824fb1bd9ce",
   "metadata": {},
   "outputs": [],
   "source": [
    "# include <stdio.h>\n",
    "# int main() {\n",
    "#    // printf() displays the string inside quotation\n",
    "#    printf(\"Hello, World!\");\n",
    "#    return 0;\n",
    "# }\n"
   ]
  },
  {
   "cell_type": "code",
   "execution_count": 5,
   "id": "a3d7ae90-168f-4acb-bf95-26564a678c36",
   "metadata": {},
   "outputs": [
    {
     "data": {
      "text/plain": [
       "'Hello World'"
      ]
     },
     "execution_count": 5,
     "metadata": {},
     "output_type": "execute_result"
    }
   ],
   "source": [
    "\"Hello World\""
   ]
  },
  {
   "cell_type": "code",
   "execution_count": 9,
   "id": "59b9517b-467d-4cc7-8a7f-aa4d327e9112",
   "metadata": {},
   "outputs": [
    {
     "name": "stdout",
     "output_type": "stream",
     "text": [
      "<class 'builtin_function_or_method'>\n"
     ]
    }
   ],
   "source": [
    "print(type(print))  # Outputs: <class 'builtin_function_or_method'>\n"
   ]
  },
  {
   "cell_type": "code",
   "execution_count": null,
   "id": "fd899e9d-d0c2-4689-baa7-3db86e4a3224",
   "metadata": {},
   "outputs": [],
   "source": [
    "print(type(input()))"
   ]
  },
  {
   "cell_type": "code",
   "execution_count": null,
   "id": "f700f1dc-7ca6-4461-b12d-a82357dd6f19",
   "metadata": {},
   "outputs": [],
   "source": []
  }
 ],
 "metadata": {
  "kernelspec": {
   "display_name": "Python 3 (ipykernel)",
   "language": "python",
   "name": "python3"
  },
  "language_info": {
   "codemirror_mode": {
    "name": "ipython",
    "version": 3
   },
   "file_extension": ".py",
   "mimetype": "text/x-python",
   "name": "python",
   "nbconvert_exporter": "python",
   "pygments_lexer": "ipython3",
   "version": "3.12.7"
  }
 },
 "nbformat": 4,
 "nbformat_minor": 5
}
