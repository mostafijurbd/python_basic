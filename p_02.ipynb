{
 "cells": [
  {
   "cell_type": "code",
   "execution_count": 4,
   "id": "55849a62-b6f1-40c1-871f-7eaafb466dc4",
   "metadata": {},
   "outputs": [
    {
     "name": "stdin",
     "output_type": "stream",
     "text": [
      "Enter a number:  00\n"
     ]
    },
    {
     "name": "stdout",
     "output_type": "stream",
     "text": [
      "0 is zero.\n"
     ]
    }
   ],
   "source": [
    "# 07 Write a program that check a number is positive, negative or zero\n",
    "\n",
    "num = int(input(\"Enter a number: \"))\n",
    "\n",
    "if num > 0:\n",
    "    print(f\"{num} is a positive number.\")\n",
    "elif num == 0:\n",
    "    print(f\"{num} is zero.\")\n",
    "else:\n",
    "    print(f\"{num} is a negative number.|\")"
   ]
  },
  {
   "cell_type": "code",
   "execution_count": 9,
   "id": "4a978321-2727-476d-a6ca-fa80ce5e305b",
   "metadata": {},
   "outputs": [
    {
     "name": "stdin",
     "output_type": "stream",
     "text": [
      "Enter the letter:  A\n"
     ]
    },
    {
     "name": "stdout",
     "output_type": "stream",
     "text": [
      "a\n",
      "a is a vowel.\n"
     ]
    }
   ],
   "source": [
    "# 08 Write a program that print a word is vowel or consonants.\n",
    "\n",
    "char = input(\"Enter the letter: \").lower()\n",
    "\n",
    "print(char)\n",
    "match char:\n",
    "    case \"a\":\n",
    "        print(f\"{char} is a vowel.\")\n",
    "    case \"e\":\n",
    "        print(f\"{char} is a vowel.\")\n",
    "    case \"i\":\n",
    "        print(f\"{char} is a vowel.\")\n",
    "    case \"o\":\n",
    "        print(f\"{char} is a vowel.\")\n",
    "    case \"o\":\n",
    "        print(f\"{char} is a vowel.\")       \n",
    "    case _:\n",
    "        print(f\"{char} is a consonants.\")"
   ]
  },
  {
   "cell_type": "code",
   "execution_count": 13,
   "id": "c91ed3e4-0aab-41f2-ad4f-ddb2df2f1ad6",
   "metadata": {},
   "outputs": [
    {
     "name": "stdin",
     "output_type": "stream",
     "text": [
      "Enter the letters:  R\n"
     ]
    },
    {
     "name": "stdout",
     "output_type": "stream",
     "text": [
      "r is a consonants.\n"
     ]
    }
   ],
   "source": [
    "# 08 Write a program that print a word is vowel or consonants.\n",
    "char = input(\"Enter the letters: \").lower()\n",
    "vowels = ['a','e','i','o','u']\n",
    "if char in vowels:\n",
    "    print(f\"{char} is a vowels.\")\n",
    "else:\n",
    "    print(f\"{char} is a consonants.\")"
   ]
  },
  {
   "cell_type": "code",
   "execution_count": 20,
   "id": "ebf8f94d-428b-447c-b943-984f5d9c4f5c",
   "metadata": {},
   "outputs": [
    {
     "name": "stdin",
     "output_type": "stream",
     "text": [
      "Enter the letters:  e\n"
     ]
    },
    {
     "name": "stdout",
     "output_type": "stream",
     "text": [
      "e is a vowels.\n"
     ]
    }
   ],
   "source": [
    "# 08 Write a program that print a word is vowel or consonants.\n",
    "char = input(\"Enter the letters: \")\n",
    "vowels = ['a','e','i','o','u','A','E','I','O','U']\n",
    "if char in vowels:\n",
    "    print(f\"{char} is a vowels.\")\n",
    "else:\n",
    "    print(f\"{char} is a consonants.\")"
   ]
  },
  {
   "cell_type": "code",
   "execution_count": 21,
   "id": "c2625385-28cf-441a-8ec4-231f0bc3dcf0",
   "metadata": {},
   "outputs": [
    {
     "name": "stdin",
     "output_type": "stream",
     "text": [
      "Enter 1st number:  10\n",
      "Enter 2nd number:  20\n",
      "Enter 3rd number:  50\n"
     ]
    },
    {
     "name": "stdout",
     "output_type": "stream",
     "text": [
      "50\n"
     ]
    }
   ],
   "source": [
    "# 09. Write a program that print max numbers between three numbers.\n",
    "\n",
    "num1 = int(input(\"Enter 1st number: \"))\n",
    "num2 = int(input(\"Enter 2nd number: \"))\n",
    "num3 = int(input(\"Enter 3rd number: \"))\n",
    "\n",
    "max_number = max(num1,num2,num3)\n",
    "print(max_number)"
   ]
  },
  {
   "cell_type": "code",
   "execution_count": 27,
   "id": "1d7a7ddd-0d89-4367-8581-40d83b16da63",
   "metadata": {},
   "outputs": [
    {
     "name": "stdin",
     "output_type": "stream",
     "text": [
      "Enter 1st number:  40\n",
      "Enter 2nd number:  40\n",
      "Enter 3rd number:  41\n"
     ]
    },
    {
     "name": "stdout",
     "output_type": "stream",
     "text": [
      "41 is the largest number.\n"
     ]
    }
   ],
   "source": [
    "# 09. Write a program that print max numbers between three numbers.\n",
    "\n",
    "num1 = int(input(\"Enter 1st number: \"))\n",
    "num2 = int(input(\"Enter 2nd number: \"))\n",
    "num3 = int(input(\"Enter 3rd number: \"))\n",
    "\n",
    "if num1>num2 and num1>num3:\n",
    "    print(f\"{num1} is the largest number.\")\n",
    "elif num2>num1 and num2>num3:\n",
    "    print(f\"{num2} is the largest number.\")\n",
    "elif num1==num2==num3:\n",
    "    print(\"All numbers are equal.\")\n",
    "else:\n",
    "    print(f\"{num3} is the largest number.\")"
   ]
  },
  {
   "cell_type": "code",
   "execution_count": null,
   "id": "821e6ee9-8877-4f17-81f5-5d5b4ae5de3b",
   "metadata": {},
   "outputs": [],
   "source": []
  }
 ],
 "metadata": {
  "kernelspec": {
   "display_name": "Python 3 (ipykernel)",
   "language": "python",
   "name": "python3"
  },
  "language_info": {
   "codemirror_mode": {
    "name": "ipython",
    "version": 3
   },
   "file_extension": ".py",
   "mimetype": "text/x-python",
   "name": "python",
   "nbconvert_exporter": "python",
   "pygments_lexer": "ipython3",
   "version": "3.12.7"
  }
 },
 "nbformat": 4,
 "nbformat_minor": 5
}
