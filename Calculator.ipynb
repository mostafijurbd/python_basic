{
 "cells": [
  {
   "cell_type": "code",
   "execution_count": 11,
   "id": "45556286-e328-491a-a65c-6fcaaff5a84d",
   "metadata": {},
   "outputs": [
    {
     "name": "stdin",
     "output_type": "stream",
     "text": [
      "Enter 1st number:  15\n",
      "Enter 2nd number:  458\n"
     ]
    }
   ],
   "source": [
    "num1 = float(input(\"Enter 1st number: \"))\n",
    "num2 = float(input(\"Enter 2nd number: \"))          "
   ]
  },
  {
   "cell_type": "code",
   "execution_count": 17,
   "id": "bccce546-427a-4e04-bfb4-b9498cfc8743",
   "metadata": {},
   "outputs": [
    {
     "name": "stdout",
     "output_type": "stream",
     "text": [
      "15.0 + 458.0 = 473.0\n",
      "15.0 - 458.0 = -443.0\n",
      "15.0 * 458.0 = 6870.0\n",
      "15.0 / 458.0 = 0.03275109170305677\n"
     ]
    }
   ],
   "source": [
    "# Summmation of two numbers\n",
    "print(f\"{num1} + {num2} = {num1+num2}\")\n",
    "# Subtruction of two numbers\n",
    "print(f\"{num1} - {num2} = {num1-num2}\")\n",
    "# Multiplicaiton of two numbers\n",
    "print(f\"{num1} * {num2} = {num1*num2}\")\n",
    "# Division of two number\n",
    "print(f\"{num1} / {num2} = {num1/num2}\")"
   ]
  },
  {
   "cell_type": "code",
   "execution_count": null,
   "id": "2667c070-8458-4d6a-b0c1-489b328a7998",
   "metadata": {},
   "outputs": [],
   "source": []
  }
 ],
 "metadata": {
  "kernelspec": {
   "display_name": "Python 3 (ipykernel)",
   "language": "python",
   "name": "python3"
  },
  "language_info": {
   "codemirror_mode": {
    "name": "ipython",
    "version": 3
   },
   "file_extension": ".py",
   "mimetype": "text/x-python",
   "name": "python",
   "nbconvert_exporter": "python",
   "pygments_lexer": "ipython3",
   "version": "3.12.7"
  }
 },
 "nbformat": 4,
 "nbformat_minor": 5
}
