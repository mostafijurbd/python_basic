{
 "cells": [
  {
   "cell_type": "code",
   "execution_count": 12,
   "id": "64d87a00-08d2-4edb-a8d4-71140e6c37af",
   "metadata": {},
   "outputs": [
    {
     "name": "stdin",
     "output_type": "stream",
     "text": [
      "Enter two integer number:  15 29\n"
     ]
    }
   ],
   "source": [
    "a , b = map(str, (input(\"Enter two integer number: \").split()))"
   ]
  },
  {
   "cell_type": "code",
   "execution_count": 13,
   "id": "aaccebec-2bd5-40fc-90db-76b495441185",
   "metadata": {},
   "outputs": [
    {
     "name": "stdout",
     "output_type": "stream",
     "text": [
      "<class 'str'>\n",
      "<class 'str'>\n",
      "15\n",
      "29\n"
     ]
    }
   ],
   "source": [
    "print(type(a))\n",
    "print(type(b))\n",
    "print(a)\n",
    "print(b)"
   ]
  },
  {
   "cell_type": "code",
   "execution_count": 18,
   "id": "cd1fe0d3-bf60-4928-9cc9-83e3aa0705f1",
   "metadata": {},
   "outputs": [
    {
     "name": "stdin",
     "output_type": "stream",
     "text": [
      "Please enter 5 number:  15 26 18 19 55\n"
     ]
    },
    {
     "name": "stdout",
     "output_type": "stream",
     "text": [
      "15.0 26.0 18.0 19.0 55.0\n",
      "26.6\n"
     ]
    }
   ],
   "source": [
    "# প্র্যাকটিস ১: গড় নির্ণয়\n",
    "# ইউজার ৫টি নম্বর ইনপুট দেবে (এক লাইনে)। আপনি map() দিয়ে ইনপুট নেবেন এবং তাদের গড় বের করবেন।\n",
    "\n",
    "# user_input = map(float, (input(\"Please enter 5 number: \").split()))\n",
    "\n",
    "# # result = user_input[0] + user_input[1] + user_input[2] + user_input[3] + user_input[4]\n",
    "# print(user_input)\n",
    "\n",
    "# প্র্যাকটিস ১: গড় নির্ণয়\n",
    "# ইউজার ৫টি নম্বর ইনপুট দেবে (এক লাইনে)। আপনি map() দিয়ে ইনপুট নেবেন এবং তাদের গড় বের করবেন।\n",
    "a, b, c, d, e = map(float, (input(\"Please enter 5 number: \").split()))\n",
    "\n",
    "result = (a + b + c + d + e)/5\n",
    "print(a, b, c, d, e)\n",
    "print(result)"
   ]
  },
  {
   "cell_type": "code",
   "execution_count": null,
   "id": "4532e703-6494-4761-a1f1-97b20e8a6783",
   "metadata": {},
   "outputs": [],
   "source": []
  }
 ],
 "metadata": {
  "kernelspec": {
   "display_name": "Python 3 (ipykernel)",
   "language": "python",
   "name": "python3"
  },
  "language_info": {
   "codemirror_mode": {
    "name": "ipython",
    "version": 3
   },
   "file_extension": ".py",
   "mimetype": "text/x-python",
   "name": "python",
   "nbconvert_exporter": "python",
   "pygments_lexer": "ipython3",
   "version": "3.12.7"
  }
 },
 "nbformat": 4,
 "nbformat_minor": 5
}
