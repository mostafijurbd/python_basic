{
 "cells": [
  {
   "cell_type": "code",
   "execution_count": 31,
   "id": "33cb8413-3938-41db-a879-400b7cfe0b75",
   "metadata": {},
   "outputs": [],
   "source": [
    "a = []"
   ]
  },
  {
   "cell_type": "code",
   "execution_count": 62,
   "id": "8e5c2c33-078b-45d7-94f8-c2c05dc90eae",
   "metadata": {},
   "outputs": [
    {
     "data": {
      "text/plain": [
       "['Labib', 'Sajid', 'Mahi', 'Lam']"
      ]
     },
     "execution_count": 62,
     "metadata": {},
     "output_type": "execute_result"
    }
   ],
   "source": [
    "a"
   ]
  },
  {
   "cell_type": "code",
   "execution_count": 63,
   "id": "aeff42d4-6e4d-41ec-b8a1-d523b2cca530",
   "metadata": {},
   "outputs": [
    {
     "data": {
      "text/plain": [
       "list"
      ]
     },
     "execution_count": 63,
     "metadata": {},
     "output_type": "execute_result"
    }
   ],
   "source": [
    "a = [\"Labib\", \"Sajid\", \"Mahi\", \"Lam\"]\n",
    "type(a)"
   ]
  },
  {
   "cell_type": "code",
   "execution_count": 64,
   "id": "bc19363d-9188-41a6-91b1-2d3fdf260fd2",
   "metadata": {},
   "outputs": [],
   "source": [
    "b = [\"onion\", \"potato\", \"ginger\", \"cucumber\", 1, 3.1416]"
   ]
  },
  {
   "cell_type": "code",
   "execution_count": 65,
   "id": "7460dc64-3889-4c0c-aad5-ce93ced1faff",
   "metadata": {},
   "outputs": [
    {
     "data": {
      "text/plain": [
       "int"
      ]
     },
     "execution_count": 65,
     "metadata": {},
     "output_type": "execute_result"
    }
   ],
   "source": [
    "type(b[4])"
   ]
  },
  {
   "cell_type": "code",
   "execution_count": 66,
   "id": "6967faf7-aeb6-4876-bd37-df90cf37188d",
   "metadata": {},
   "outputs": [
    {
     "data": {
      "text/plain": [
       "'onion'"
      ]
     },
     "execution_count": 66,
     "metadata": {},
     "output_type": "execute_result"
    }
   ],
   "source": [
    "b[0]"
   ]
  },
  {
   "cell_type": "code",
   "execution_count": 67,
   "id": "dc6329ce-7953-44ad-960e-2d7f561ac35e",
   "metadata": {},
   "outputs": [
    {
     "data": {
      "text/plain": [
       "'potato'"
      ]
     },
     "execution_count": 67,
     "metadata": {},
     "output_type": "execute_result"
    }
   ],
   "source": [
    "b[1]"
   ]
  },
  {
   "cell_type": "code",
   "execution_count": 68,
   "id": "2dc75a32-9865-40dd-be06-8f9e15806e1e",
   "metadata": {},
   "outputs": [
    {
     "data": {
      "text/plain": [
       "'ginger'"
      ]
     },
     "execution_count": 68,
     "metadata": {},
     "output_type": "execute_result"
    }
   ],
   "source": [
    "b[2]"
   ]
  },
  {
   "cell_type": "code",
   "execution_count": 69,
   "id": "fe52d842-481a-4c0a-905c-459009f8e38f",
   "metadata": {},
   "outputs": [
    {
     "data": {
      "text/plain": [
       "'cucumber'"
      ]
     },
     "execution_count": 69,
     "metadata": {},
     "output_type": "execute_result"
    }
   ],
   "source": [
    "b[3]"
   ]
  },
  {
   "cell_type": "code",
   "execution_count": 70,
   "id": "234f9847-ff9f-44d3-ac94-a0ace8f98409",
   "metadata": {},
   "outputs": [
    {
     "data": {
      "text/plain": [
       "1"
      ]
     },
     "execution_count": 70,
     "metadata": {},
     "output_type": "execute_result"
    }
   ],
   "source": [
    "b[4]"
   ]
  },
  {
   "cell_type": "code",
   "execution_count": 71,
   "id": "d839c39a-5b7d-4f02-99bb-90be20023d91",
   "metadata": {},
   "outputs": [
    {
     "data": {
      "text/plain": [
       "['onion', 'potato', 'ginger']"
      ]
     },
     "execution_count": 71,
     "metadata": {},
     "output_type": "execute_result"
    }
   ],
   "source": [
    "b[0:3]\n"
   ]
  },
  {
   "cell_type": "code",
   "execution_count": 72,
   "id": "1791a949-4d87-413c-9141-110b002a605e",
   "metadata": {},
   "outputs": [
    {
     "data": {
      "text/plain": [
       "['potato', 'ginger', 'cucumber', 1]"
      ]
     },
     "execution_count": 72,
     "metadata": {},
     "output_type": "execute_result"
    }
   ],
   "source": [
    "b[1:5]\n"
   ]
  },
  {
   "cell_type": "code",
   "execution_count": 73,
   "id": "e39c1d2d-76db-4bff-a712-32f18fd96b12",
   "metadata": {},
   "outputs": [
    {
     "data": {
      "text/plain": [
       "['onion', 'potato', 'ginger', 'cucumber', 1, 3.1416]"
      ]
     },
     "execution_count": 73,
     "metadata": {},
     "output_type": "execute_result"
    }
   ],
   "source": [
    "b[:]"
   ]
  },
  {
   "cell_type": "code",
   "execution_count": 74,
   "id": "090573f1-a302-4bf9-a74e-129380fdaee9",
   "metadata": {},
   "outputs": [
    {
     "data": {
      "text/plain": [
       "['onion', 'potato', 'ginger', 'cucumber', 1]"
      ]
     },
     "execution_count": 74,
     "metadata": {},
     "output_type": "execute_result"
    }
   ],
   "source": [
    "b[:5]"
   ]
  },
  {
   "cell_type": "code",
   "execution_count": 75,
   "id": "cd4dc6d2-905f-4c39-9b5a-b24323647f69",
   "metadata": {},
   "outputs": [
    {
     "data": {
      "text/plain": [
       "['ginger', 'cucumber', 1, 3.1416]"
      ]
     },
     "execution_count": 75,
     "metadata": {},
     "output_type": "execute_result"
    }
   ],
   "source": [
    "b[2:]"
   ]
  },
  {
   "cell_type": "code",
   "execution_count": 76,
   "id": "13a1e23b-67bb-4fe5-9d4f-ba8fe3e3389b",
   "metadata": {},
   "outputs": [
    {
     "data": {
      "text/plain": [
       "['onion', 'potato', 'ginger', 'cucumber', 1, 3.1416]"
      ]
     },
     "execution_count": 76,
     "metadata": {},
     "output_type": "execute_result"
    }
   ],
   "source": [
    "b"
   ]
  },
  {
   "cell_type": "code",
   "execution_count": 77,
   "id": "f2ce10d6-014c-408c-9258-2f7f5ef37fa7",
   "metadata": {},
   "outputs": [],
   "source": [
    "b[0] = \"rice\""
   ]
  },
  {
   "cell_type": "code",
   "execution_count": 78,
   "id": "9b1f42fa-6436-4b8c-ad46-4ca70ef990a5",
   "metadata": {},
   "outputs": [
    {
     "data": {
      "text/plain": [
       "['rice', 'potato', 'ginger', 'cucumber', 1, 3.1416]"
      ]
     },
     "execution_count": 78,
     "metadata": {},
     "output_type": "execute_result"
    }
   ],
   "source": [
    "b"
   ]
  },
  {
   "cell_type": "code",
   "execution_count": 49,
   "id": "f8e7882f-875d-4343-a40c-07fdbe7d3c36",
   "metadata": {},
   "outputs": [],
   "source": [
    "b[1] = \"Milk\""
   ]
  },
  {
   "cell_type": "code",
   "execution_count": 50,
   "id": "bd92aa2d-ec68-4dd2-a8ae-6f26fd15648e",
   "metadata": {},
   "outputs": [
    {
     "data": {
      "text/plain": [
       "['rice', 'Milk', 'ginger', 'cucumber', 1, 3.1416]"
      ]
     },
     "execution_count": 50,
     "metadata": {},
     "output_type": "execute_result"
    }
   ],
   "source": [
    "b"
   ]
  },
  {
   "cell_type": "code",
   "execution_count": 3,
   "id": "c604bc16-55bb-4fb7-8fe8-1edc6e63d1ef",
   "metadata": {},
   "outputs": [
    {
     "ename": "NameError",
     "evalue": "name 'b' is not defined",
     "output_type": "error",
     "traceback": [
      "\u001b[1;31m---------------------------------------------------------------------------\u001b[0m",
      "\u001b[1;31mNameError\u001b[0m                                 Traceback (most recent call last)",
      "Cell \u001b[1;32mIn[3], line 1\u001b[0m\n\u001b[1;32m----> 1\u001b[0m b[\u001b[38;5;241m3\u001b[39m]\u001b[38;5;241m=\u001b[39m \u001b[38;5;241m910084\u001b[39m\n\u001b[0;32m      2\u001b[0m b\n",
      "\u001b[1;31mNameError\u001b[0m: name 'b' is not defined"
     ]
    }
   ],
   "source": [
    "b[3]= 910084\n",
    "b"
   ]
  },
  {
   "cell_type": "code",
   "execution_count": 57,
   "id": "ba9b0233-1165-4360-b5bc-90da172c9316",
   "metadata": {},
   "outputs": [
    {
     "data": {
      "text/plain": [
       "['january',\n",
       " 'february',\n",
       " 'march',\n",
       " 'april',\n",
       " 'Sumon',\n",
       " 'june',\n",
       " 'july',\n",
       " 'rice',\n",
       " 'Milk',\n",
       " 'ginger',\n",
       " 910084,\n",
       " 'Sumon',\n",
       " 3.1416,\n",
       " 'Labib',\n",
       " 'I love you']"
      ]
     },
     "execution_count": 57,
     "metadata": {},
     "output_type": "execute_result"
    }
   ],
   "source": [
    "b[4] = \"Sumon\"\n",
    "b"
   ]
  },
  {
   "cell_type": "code",
   "execution_count": 2,
   "id": "9f047482-dea1-4b69-a166-1c9b22724a89",
   "metadata": {},
   "outputs": [
    {
     "ename": "NameError",
     "evalue": "name 'b' is not defined",
     "output_type": "error",
     "traceback": [
      "\u001b[1;31m---------------------------------------------------------------------------\u001b[0m",
      "\u001b[1;31mNameError\u001b[0m                                 Traceback (most recent call last)",
      "Cell \u001b[1;32mIn[2], line 1\u001b[0m\n\u001b[1;32m----> 1\u001b[0m b\u001b[38;5;241m.\u001b[39mappend(\u001b[38;5;124m\"\u001b[39m\u001b[38;5;124mLabib\u001b[39m\u001b[38;5;124m\"\u001b[39m)\n\u001b[0;32m      2\u001b[0m \u001b[38;5;28mprint\u001b[39m(b)\n",
      "\u001b[1;31mNameError\u001b[0m: name 'b' is not defined"
     ]
    }
   ],
   "source": [
    "b.append(\"Labib\")\n",
    "print(b)"
   ]
  },
  {
   "cell_type": "code",
   "execution_count": null,
   "id": "832e00f0-8fa6-4683-b617-32301242dbef",
   "metadata": {},
   "outputs": [],
   "source": [
    "b.insert(0, \"january\")\n",
    "b.insert(1, \"february\")\n",
    "b.insert(2, \"march\")\n",
    "b.insert(3, \"april\")\n",
    "b.insert(4, \"may\")\n",
    "b.insert(5, \"june\")\n",
    "b.insert(6, \"july\")"
   ]
  },
  {
   "cell_type": "code",
   "execution_count": 118,
   "id": "5fcb76e7-b2f8-4e93-ab1c-6522e4eb6614",
   "metadata": {},
   "outputs": [
    {
     "name": "stdout",
     "output_type": "stream",
     "text": [
      "['january', 'february', 'march', 'april', 'may', 'june', 'july', 'Labib', 'Labib', 'Labib', 'Labib', 'I love you']\n"
     ]
    }
   ],
   "source": [
    "b.append(\"I love you\")\n",
    "print(b)"
   ]
  },
  {
   "cell_type": "code",
   "execution_count": 119,
   "id": "4dad9a43-228f-4762-a866-a961146899b7",
   "metadata": {},
   "outputs": [
    {
     "name": "stdout",
     "output_type": "stream",
     "text": [
      "['january', 'february', 'march', 'april', 'may', 'june', 'july', 'Labib', 'Labib', 'Labib', 'Labib', 'I love you']\n",
      "['january', 'february', 'march', 'april', 'may', 'june', 'july', 'Labib', 'Labib', 'Labib', 'I love you']\n"
     ]
    }
   ],
   "source": [
    "# print(b)\n",
    "# del b [5]\n",
    "# print(b)\n",
    "# del b [:7]\n",
    "# print(b)\n",
    "# b.remove(\"I love you\")\n",
    "print(b)\n",
    "del b[-5]\n",
    "print(b)"
   ]
  },
  {
   "cell_type": "code",
   "execution_count": 120,
   "id": "7c8b31a4-948f-456d-ba64-c6521d7e4d0f",
   "metadata": {},
   "outputs": [
    {
     "data": {
      "text/plain": [
       "11"
      ]
     },
     "execution_count": 120,
     "metadata": {},
     "output_type": "execute_result"
    }
   ],
   "source": [
    "len(b)"
   ]
  },
  {
   "cell_type": "code",
   "execution_count": 121,
   "id": "681fc38f-c03f-4817-962d-317c8fb72345",
   "metadata": {},
   "outputs": [
    {
     "name": "stdout",
     "output_type": "stream",
     "text": [
      "['I love you', 'Labib', 'Labib', 'Labib', 'july', 'june', 'may', 'april', 'march', 'february', 'january']\n"
     ]
    }
   ],
   "source": [
    "b.reverse()\n",
    "print(b)\n"
   ]
  },
  {
   "cell_type": "code",
   "execution_count": 123,
   "id": "3f8243c9-f85e-40f2-bb31-974331c17e34",
   "metadata": {},
   "outputs": [
    {
     "name": "stdout",
     "output_type": "stream",
     "text": [
      "['I love you', 'Labib', 'Labib', 'Labib', 'april', 'february', 'january', 'july', 'june', 'march', 'may']\n"
     ]
    }
   ],
   "source": [
    "b.sort()\n",
    "print(b)"
   ]
  },
  {
   "cell_type": "code",
   "execution_count": 4,
   "id": "c808eb07-a120-4136-b815-5110c9241418",
   "metadata": {},
   "outputs": [
    {
     "name": "stdout",
     "output_type": "stream",
     "text": [
      "11\n"
     ]
    }
   ],
   "source": [
    "print(True + False + 10)"
   ]
  },
  {
   "cell_type": "code",
   "execution_count": null,
   "id": "c9663050-84fd-44c5-a8b6-7ffd23cc97b9",
   "metadata": {},
   "outputs": [],
   "source": []
  }
 ],
 "metadata": {
  "kernelspec": {
   "display_name": "Python 3 (ipykernel)",
   "language": "python",
   "name": "python3"
  },
  "language_info": {
   "codemirror_mode": {
    "name": "ipython",
    "version": 3
   },
   "file_extension": ".py",
   "mimetype": "text/x-python",
   "name": "python",
   "nbconvert_exporter": "python",
   "pygments_lexer": "ipython3",
   "version": "3.12.7"
  }
 },
 "nbformat": 4,
 "nbformat_minor": 5
}
