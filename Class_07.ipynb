{
 "cells": [
  {
   "cell_type": "code",
   "execution_count": 37,
   "id": "03c61d16-2a29-47ab-a13a-aa0768272aed",
   "metadata": {},
   "outputs": [],
   "source": [
    "name = \"my name is ridoy\""
   ]
  },
  {
   "cell_type": "code",
   "execution_count": 38,
   "id": "12f710ff-1e4b-448b-bc83-8f18916454b3",
   "metadata": {},
   "outputs": [
    {
     "data": {
      "text/plain": [
       "16"
      ]
     },
     "execution_count": 38,
     "metadata": {},
     "output_type": "execute_result"
    }
   ],
   "source": [
    "len(name)"
   ]
  },
  {
   "cell_type": "code",
   "execution_count": 40,
   "id": "0afb6296-a9c3-4eff-9432-e49a51d680dc",
   "metadata": {},
   "outputs": [
    {
     "data": {
      "text/plain": [
       "11"
      ]
     },
     "execution_count": 40,
     "metadata": {},
     "output_type": "execute_result"
    }
   ],
   "source": [
    "name.index(\"ridoy\")"
   ]
  },
  {
   "cell_type": "code",
   "execution_count": 45,
   "id": "b1e0b9b4-2c36-4bba-b886-4680b19d031e",
   "metadata": {},
   "outputs": [
    {
     "name": "stdout",
     "output_type": "stream",
     "text": [
      "16\n"
     ]
    }
   ],
   "source": [
    "count = 0\n",
    "for i in name:\n",
    "    count = count + 1\n",
    "    # print(i)\n",
    "print(count)"
   ]
  },
  {
   "cell_type": "code",
   "execution_count": 47,
   "id": "45bee630-88a0-46a6-9d27-224108cd5230",
   "metadata": {},
   "outputs": [
    {
     "data": {
      "text/plain": [
       "6"
      ]
     },
     "execution_count": 47,
     "metadata": {},
     "output_type": "execute_result"
    }
   ],
   "source": [
    "name.find(\"e\")"
   ]
  },
  {
   "cell_type": "code",
   "execution_count": 56,
   "id": "eb3316ed-455f-4894-9f96-d0c9069fc4df",
   "metadata": {},
   "outputs": [
    {
     "name": "stdout",
     "output_type": "stream",
     "text": [
      "r\n",
      "16\n"
     ]
    }
   ],
   "source": [
    "count = 0\n",
    "for i in name:\n",
    "    count = count+1\n",
    "    if i == \"r\":\n",
    "        print(i)\n",
    "        break\n",
    "    \n",
    "print(count)"
   ]
  },
  {
   "cell_type": "code",
   "execution_count": 68,
   "id": "c3e1770b-fcab-4169-a4f8-623a953ba977",
   "metadata": {},
   "outputs": [
    {
     "name": "stdout",
     "output_type": "stream",
     "text": [
      "-20\n"
     ]
    }
   ],
   "source": [
    "name = \"my name is ridoy ajfk\"\n",
    "count = -1\n",
    "for i in name:\n",
    "    count = count + 1\n",
    "    if i == \"y\":\n",
    "        # print(i)\n",
    "       break\n",
    "print(count-len(name))\n"
   ]
  },
  {
   "cell_type": "code",
   "execution_count": 66,
   "id": "006053d2-d5bf-419a-92c6-ed74af4ba6ae",
   "metadata": {},
   "outputs": [
    {
     "data": {
      "text/plain": [
       "16"
      ]
     },
     "execution_count": 66,
     "metadata": {},
     "output_type": "execute_result"
    }
   ],
   "source": [
    "len(name)"
   ]
  },
  {
   "cell_type": "code",
   "execution_count": 69,
   "id": "35e6b270-3250-4863-9045-8997a02f930f",
   "metadata": {},
   "outputs": [
    {
     "data": {
      "text/plain": [
       "'My Name is Abdur Rahman'"
      ]
     },
     "execution_count": 69,
     "metadata": {},
     "output_type": "execute_result"
    }
   ],
   "source": [
    "name = \"My Name is Abdur Rahman\"\n",
    "name"
   ]
  },
  {
   "cell_type": "code",
   "execution_count": 70,
   "id": "449c53b1-5b56-4ae3-916f-698401662560",
   "metadata": {},
   "outputs": [
    {
     "data": {
      "text/plain": [
       "23"
      ]
     },
     "execution_count": 70,
     "metadata": {},
     "output_type": "execute_result"
    }
   ],
   "source": [
    "len(name)"
   ]
  },
  {
   "cell_type": "code",
   "execution_count": 73,
   "id": "002d29ed-3c37-40a4-91d3-0ef758e68f98",
   "metadata": {},
   "outputs": [
    {
     "name": "stdout",
     "output_type": "stream",
     "text": [
      "23\n"
     ]
    }
   ],
   "source": [
    "count = 0\n",
    "for i in name:\n",
    "    count = count +1\n",
    "    # print(i)\n",
    "print(count)\n"
   ]
  },
  {
   "cell_type": "code",
   "execution_count": 79,
   "id": "b4453702-9dae-48af-8ebe-33397fb820fe",
   "metadata": {},
   "outputs": [],
   "source": [
    "msg = \"My Name is Abdur Mutakabbir\"\n",
    "msg = \"Mostafijur\""
   ]
  },
  {
   "cell_type": "code",
   "execution_count": 85,
   "id": "6a80d294-bc4e-4284-ac6c-9d8e65bb05c7",
   "metadata": {},
   "outputs": [
    {
     "name": "stdout",
     "output_type": "stream",
     "text": [
      "M = 0\n",
      "s = 2\n",
      "a = 4\n",
      "i = 6\n",
      "u = 8\n"
     ]
    }
   ],
   "source": [
    "count = -1\n",
    "for i in msg:\n",
    "    count = count+1\n",
    "    if count %2==0:\n",
    "        print(f\"{i} = {count}\")\n",
    "    "
   ]
  },
  {
   "cell_type": "code",
   "execution_count": 91,
   "id": "8baa0e03-3ae5-4156-bb8c-89afb30ebd52",
   "metadata": {},
   "outputs": [
    {
     "name": "stdout",
     "output_type": "stream",
     "text": [
      "M=0\n",
      "T=2\n",
      "K=4\n",
      "B=6\n",
      "I=8\n"
     ]
    }
   ],
   "source": [
    "sen = \"Mutakabbir\".upper()\n",
    "count = -1\n",
    "for i in sen:\n",
    "    # print(f\"{i} = {count}\")\n",
    "    count += 1\n",
    "    if count %2 == 0:\n",
    "        print(i + \"=\", end= \"\")\n",
    "        print(count)"
   ]
  },
  {
   "cell_type": "code",
   "execution_count": 100,
   "id": "188daab7-7f34-47f9-9625-b126fcd2f614",
   "metadata": {},
   "outputs": [
    {
     "name": "stdout",
     "output_type": "stream",
     "text": [
      "M = 0\n",
      "n = 3\n",
      "m = 5\n",
      "e = 6\n",
      "s = 9\n",
      "  = 10\n",
      "o = 12\n",
      "a = 15\n",
      "j = 18\n",
      "r = 20\n",
      "  = 21\n",
      "h = 24\n",
      "m = 25\n",
      "n = 27\n"
     ]
    }
   ],
   "source": [
    "name = \"My name is mostafijur rahman\"\n",
    "\n",
    "count = 0\n",
    "\n",
    "for i in name:\n",
    "    if count%3 == 0 or count%5 == 0:\n",
    "        print(f\"{i} = {count}\")\n",
    "    count += 1"
   ]
  },
  {
   "cell_type": "code",
   "execution_count": 98,
   "id": "56ff93af-db40-4127-adf0-3393282c6ef0",
   "metadata": {},
   "outputs": [
    {
     "data": {
      "text/plain": [
       "range(0, 11)"
      ]
     },
     "execution_count": 98,
     "metadata": {},
     "output_type": "execute_result"
    }
   ],
   "source": [
    "range(11)"
   ]
  },
  {
   "cell_type": "code",
   "execution_count": 102,
   "id": "33ff85b5-13a9-4bd1-93e6-7c38608cc7ac",
   "metadata": {},
   "outputs": [
    {
     "name": "stdout",
     "output_type": "stream",
     "text": [
      "n = 3\n",
      "  = 21\n"
     ]
    }
   ],
   "source": [
    "name = \"My name is mostafijur rahman\"\n",
    "\n",
    "count = 0\n",
    "\n",
    "for i in name:\n",
    "    if count == 3 or count == 21:\n",
    "        print(f\"{i} = {count}\")\n",
    "    count += 1"
   ]
  },
  {
   "cell_type": "code",
   "execution_count": null,
   "id": "b0efe1e3-a259-48de-9be9-5915a40670f9",
   "metadata": {},
   "outputs": [],
   "source": []
  }
 ],
 "metadata": {
  "kernelspec": {
   "display_name": "Python 3 (ipykernel)",
   "language": "python",
   "name": "python3"
  },
  "language_info": {
   "codemirror_mode": {
    "name": "ipython",
    "version": 3
   },
   "file_extension": ".py",
   "mimetype": "text/x-python",
   "name": "python",
   "nbconvert_exporter": "python",
   "pygments_lexer": "ipython3",
   "version": "3.12.7"
  }
 },
 "nbformat": 4,
 "nbformat_minor": 5
}
